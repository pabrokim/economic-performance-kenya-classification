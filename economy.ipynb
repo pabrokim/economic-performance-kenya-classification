{
 "cells": [
  {
   "cell_type": "code",
   "execution_count": 32,
   "metadata": {},
   "outputs": [],
   "source": [
    "#import libraries\n",
    "import pandas as pd\n",
    "import matplotlib.pyplot as plt\n",
    "import seaborn as sns\n",
    "import numpy as np\n",
    "from sklearn.metrics import accuracy_score, confusion_matrix\n",
    "from sklearn.linear_model import LogisticRegression\n",
    "from sklearn.model_selection import train_test_split \n",
    "from sklearn.pipeline import make_pipeline\n",
    "from sklearn.preprocessing import OrdinalEncoder\n",
    "from sklearn.tree import DecisionTreeClassifier\n"
   ]
  },
  {
   "cell_type": "code",
   "execution_count": 2,
   "metadata": {},
   "outputs": [],
   "source": [
    "def wrangle(file):\n",
    "    try:\n",
    "        #read csv\n",
    "        df = pd.read_csv(file)\n",
    "\n",
    "        #remove whitespace in columns\n",
    "        df.columns = df.columns.str.strip()\n",
    "\n",
    "        # columns to drop\n",
    "        cols_to_drop =['Adm5', 'Adm6', 'Geo1', 'econ4', 'acc_code', 'FndSrce1', 'function2', 'econ1', 'econ2', 'econ3', 'Year', 'Adm2', 'Adm3', 'Adm4']\n",
    "        \n",
    "        #convert numerical columns to float\n",
    "        num_cols = ['Estimates', 'Revised', 'Executed']\n",
    "        for col in num_cols:\n",
    "            df[col] = df[col].str.replace(',', '', regex=True).str.replace(r'[^\\d\\.\\-]', '', regex=True).replace(['', '-'], np.nan).astype(float)\n",
    "\n",
    "        #split funding source\n",
    "        df[['acc_code', 'fund_source']] = df['FndSrce1'].str.lower().str.split(n=1, expand=True)\n",
    "\n",
    "        #clean function 1\n",
    "        df['function1'] = df['function1'].str.lower().str.strip()    \n",
    "        \n",
    "        #get ratio\n",
    "        df['execution_ratio'] = np.where(df['Revised'] == 0, 0, df['Executed'] / df['Revised'])\n",
    "        #remove outliers\n",
    "        df = df[df['execution_ratio'] <= 2.0]\n",
    "        \n",
    "        #execution status\n",
    "        df['fully_executed'] = (df['execution_ratio']>= 1).astype(int)\n",
    "        \n",
    "        #drop leaky features\n",
    "        cols_to_drop.extend(['Executed', 'execution_ratio'])\n",
    "        \n",
    "        #drop columns\n",
    "        df.drop(columns = cols_to_drop, inplace=True)\n",
    "        \n",
    "        #drop missing rows\n",
    "        df.dropna(inplace=True)\n",
    "\n",
    "        #reorder columns\n",
    "        revised_order = ['Class', 'Adm1', 'Econ0', 'function1','fund_source', 'Estimates', 'Revised', 'fully_executed']\n",
    "        df = df[revised_order]       \n",
    "        \n",
    "        return df\n",
    "        \n",
    "    except Exception as e:\n",
    "        print(f'Encountered {e} error')\n",
    "\n",
    "    \n"
   ]
  },
  {
   "cell_type": "code",
   "execution_count": 3,
   "metadata": {},
   "outputs": [
    {
     "name": "stderr",
     "output_type": "stream",
     "text": [
      "/tmp/ipykernel_2843/4088470531.py:4: DtypeWarning: Columns (0,1,2,3,4,5,6,7,9,10,11,12,15,16,17,18,19) have mixed types. Specify dtype option on import or set low_memory=False.\n",
      "  df = pd.read_csv(file)\n"
     ]
    },
    {
     "data": {
      "text/html": [
       "<div>\n",
       "<style scoped>\n",
       "    .dataframe tbody tr th:only-of-type {\n",
       "        vertical-align: middle;\n",
       "    }\n",
       "\n",
       "    .dataframe tbody tr th {\n",
       "        vertical-align: top;\n",
       "    }\n",
       "\n",
       "    .dataframe thead th {\n",
       "        text-align: right;\n",
       "    }\n",
       "</style>\n",
       "<table border=\"1\" class=\"dataframe\">\n",
       "  <thead>\n",
       "    <tr style=\"text-align: right;\">\n",
       "      <th></th>\n",
       "      <th>Class</th>\n",
       "      <th>Adm1</th>\n",
       "      <th>Econ0</th>\n",
       "      <th>function1</th>\n",
       "      <th>fund_source</th>\n",
       "      <th>Estimates</th>\n",
       "      <th>Revised</th>\n",
       "      <th>fully_executed</th>\n",
       "    </tr>\n",
       "  </thead>\n",
       "  <tbody>\n",
       "    <tr>\n",
       "      <th>0</th>\n",
       "      <td>Development</td>\n",
       "      <td>Central</td>\n",
       "      <td>Expenditures</td>\n",
       "      <td>agriculture and rural development</td>\n",
       "      <td>domestic resources</td>\n",
       "      <td>18318600.0</td>\n",
       "      <td>14062700.0</td>\n",
       "      <td>0</td>\n",
       "    </tr>\n",
       "    <tr>\n",
       "      <th>1</th>\n",
       "      <td>Development</td>\n",
       "      <td>Central</td>\n",
       "      <td>Expenditures</td>\n",
       "      <td>agriculture and rural development</td>\n",
       "      <td>domestic resources</td>\n",
       "      <td>12799450.0</td>\n",
       "      <td>9599587.0</td>\n",
       "      <td>0</td>\n",
       "    </tr>\n",
       "    <tr>\n",
       "      <th>2</th>\n",
       "      <td>Development</td>\n",
       "      <td>Central</td>\n",
       "      <td>Expenditures</td>\n",
       "      <td>agriculture and rural development</td>\n",
       "      <td>domestic resources</td>\n",
       "      <td>7218400.0</td>\n",
       "      <td>5652150.0</td>\n",
       "      <td>0</td>\n",
       "    </tr>\n",
       "    <tr>\n",
       "      <th>3</th>\n",
       "      <td>Development</td>\n",
       "      <td>Central</td>\n",
       "      <td>Expenditures</td>\n",
       "      <td>agriculture and rural development</td>\n",
       "      <td>domestic resources</td>\n",
       "      <td>10025827.0</td>\n",
       "      <td>8126744.0</td>\n",
       "      <td>0</td>\n",
       "    </tr>\n",
       "    <tr>\n",
       "      <th>4</th>\n",
       "      <td>Development</td>\n",
       "      <td>Central</td>\n",
       "      <td>Expenditures</td>\n",
       "      <td>agriculture and rural development</td>\n",
       "      <td>domestic resources</td>\n",
       "      <td>500000.0</td>\n",
       "      <td>1130625.0</td>\n",
       "      <td>0</td>\n",
       "    </tr>\n",
       "  </tbody>\n",
       "</table>\n",
       "</div>"
      ],
      "text/plain": [
       "         Class     Adm1         Econ0                          function1  \\\n",
       "0  Development  Central  Expenditures  agriculture and rural development   \n",
       "1  Development  Central  Expenditures  agriculture and rural development   \n",
       "2  Development  Central  Expenditures  agriculture and rural development   \n",
       "3  Development  Central  Expenditures  agriculture and rural development   \n",
       "4  Development  Central  Expenditures  agriculture and rural development   \n",
       "\n",
       "          fund_source   Estimates     Revised  fully_executed  \n",
       "0  domestic resources  18318600.0  14062700.0               0  \n",
       "1  domestic resources  12799450.0   9599587.0               0  \n",
       "2  domestic resources   7218400.0   5652150.0               0  \n",
       "3  domestic resources  10025827.0   8126744.0               0  \n",
       "4  domestic resources    500000.0   1130625.0               0  "
      ]
     },
     "execution_count": 3,
     "metadata": {},
     "output_type": "execute_result"
    }
   ],
   "source": [
    "df = wrangle('kenya-boost-2006-2018.csv')\n",
    "df.head()"
   ]
  },
  {
   "cell_type": "code",
   "execution_count": 4,
   "metadata": {},
   "outputs": [
    {
     "data": {
      "text/plain": [
       "fully_executed\n",
       "0    53123\n",
       "1    22763\n",
       "Name: count, dtype: int64"
      ]
     },
     "execution_count": 4,
     "metadata": {},
     "output_type": "execute_result"
    }
   ],
   "source": [
    "df['fully_executed'].value_counts()"
   ]
  },
  {
   "cell_type": "code",
   "execution_count": 5,
   "metadata": {},
   "outputs": [
    {
     "name": "stdout",
     "output_type": "stream",
     "text": [
      "Index(['Class', 'Adm1', 'Econ0', 'function1', 'fund_source', 'Estimates',\n",
      "       'Revised', 'fully_executed'],\n",
      "      dtype='object')\n",
      "Value counts for Class column\n",
      "['Development' 'Recurrent']\n",
      "------------------\n",
      "******************\n",
      "Value counts for Adm1 column\n",
      "['Central' 'Social security' 'Local Authorities' ' Central ']\n",
      "------------------\n",
      "******************\n",
      "Value counts for Econ0 column\n",
      "['Expenditures' 'Below the line' 'A-in-A']\n",
      "------------------\n",
      "******************\n",
      "Value counts for function1 column\n",
      "['agriculture and rural development' 'human resource development'\n",
      " 'debt/pensions' 'governance, justice, law and order'\n",
      " 'public administration and international relations'\n",
      " 'environment, water and irrigation' 'trade, tourism and industry'\n",
      " 'special programmes' 'physical infrastructure'\n",
      " 'research,innovation and technology' 'national security' 'other']\n",
      "------------------\n",
      "******************\n",
      "Value counts for fund_source column\n",
      "['domestic resources' 'appropriation in aid (aia)' 'revenue']\n",
      "------------------\n",
      "******************\n",
      "Value counts for Estimates column\n",
      "[1.83186000e+07 1.27994500e+07 7.21840000e+06 ... 6.82732842e+10\n",
      " 7.32605724e+09 6.93458421e+10]\n",
      "------------------\n",
      "******************\n",
      "Value counts for Revised column\n",
      "[1.40627000e+07 9.59958700e+06 5.65215000e+06 ... 6.82732842e+10\n",
      " 7.32605724e+09 6.93458421e+10]\n",
      "------------------\n",
      "******************\n",
      "Value counts for fully_executed column\n",
      "[0 1]\n",
      "------------------\n",
      "******************\n"
     ]
    }
   ],
   "source": [
    "columns = df.columns\n",
    "print(columns)\n",
    "for col in columns:\n",
    "    print(f'Value counts for {col} column')\n",
    "    try:\n",
    "        print(df[col].unique())\n",
    "    except Exception as e:\n",
    "        print(f\"Error in column '{col}': {e}\")\n",
    "    print('------------------')\n",
    "    print('******************')"
   ]
  },
  {
   "cell_type": "code",
   "execution_count": 6,
   "metadata": {},
   "outputs": [
    {
     "data": {
      "text/plain": [
       "Index(['Class', 'Adm1', 'Econ0', 'function1', 'fund_source', 'Estimates',\n",
       "       'Revised', 'fully_executed'],\n",
       "      dtype='object')"
      ]
     },
     "execution_count": 6,
     "metadata": {},
     "output_type": "execute_result"
    }
   ],
   "source": [
    "df.columns.str.strip()"
   ]
  },
  {
   "cell_type": "code",
   "execution_count": 7,
   "metadata": {},
   "outputs": [
    {
     "name": "stdout",
     "output_type": "stream",
     "text": [
      "0    18318600.0\n",
      "1    12799450.0\n",
      "2     7218400.0\n",
      "3    10025827.0\n",
      "4      500000.0\n",
      "Name: Estimates, dtype: float64\n"
     ]
    }
   ],
   "source": [
    "if 'Estimates' in df.columns:\n",
    "    print(df['Estimates'].head())\n",
    "else:\n",
    "    print('Estimates column not there')"
   ]
  },
  {
   "cell_type": "code",
   "execution_count": 8,
   "metadata": {},
   "outputs": [
    {
     "name": "stdout",
     "output_type": "stream",
     "text": [
      "<class 'pandas.core.frame.DataFrame'>\n",
      "Index: 75886 entries, 0 to 262022\n",
      "Data columns (total 8 columns):\n",
      " #   Column          Non-Null Count  Dtype  \n",
      "---  ------          --------------  -----  \n",
      " 0   Class           75886 non-null  object \n",
      " 1   Adm1            75886 non-null  object \n",
      " 2   Econ0           75886 non-null  object \n",
      " 3   function1       75886 non-null  object \n",
      " 4   fund_source     75886 non-null  object \n",
      " 5   Estimates       75886 non-null  float64\n",
      " 6   Revised         75886 non-null  float64\n",
      " 7   fully_executed  75886 non-null  int64  \n",
      "dtypes: float64(2), int64(1), object(5)\n",
      "memory usage: 5.2+ MB\n"
     ]
    }
   ],
   "source": [
    "df.info()"
   ]
  },
  {
   "cell_type": "code",
   "execution_count": 9,
   "metadata": {},
   "outputs": [],
   "source": [
    "df['function1'] = df['function1'].str.lower().str.strip()\n"
   ]
  },
  {
   "cell_type": "code",
   "execution_count": 10,
   "metadata": {},
   "outputs": [
    {
     "data": {
      "text/plain": [
       "Index(['Class', 'Adm1', 'Econ0', 'function1', 'fund_source', 'Estimates',\n",
       "       'Revised', 'fully_executed'],\n",
       "      dtype='object')"
      ]
     },
     "execution_count": 10,
     "metadata": {},
     "output_type": "execute_result"
    }
   ],
   "source": [
    "df.columns"
   ]
  },
  {
   "cell_type": "code",
   "execution_count": 11,
   "metadata": {},
   "outputs": [
    {
     "data": {
      "image/png": "[encoded data removed]",
      "text/plain": [
       "<Figure size 640x480 with 1 Axes>"
      ]
     },
     "metadata": {},
     "output_type": "display_data"
    }
   ],
   "source": [
    "df['fully_executed'].value_counts(normalize=True).plot(kind ='bar')\n",
    "plt.xlabel('Execution Status')\n",
    "plt.ylabel('Proportion of the Class')\n",
    "plt.title('Class Balance')\n",
    "plt.xticks([0, 1], ['not_fully_executed', 'fully_executed']);"
   ]
  },
  {
   "cell_type": "code",
   "execution_count": 12,
   "metadata": {},
   "outputs": [
    {
     "name": "stdout",
     "output_type": "stream",
     "text": [
      "Majority class: 0.7 : Minority class: 0.3\n"
     ]
    }
   ],
   "source": [
    "majority_class, minority_class = df['fully_executed'].value_counts(normalize=True)\n",
    "print('Majority class:', round(majority_class, 3),':', 'Minority class:', round(minority_class, 3))"
   ]
  },
  {
   "cell_type": "code",
   "execution_count": 13,
   "metadata": {},
   "outputs": [
    {
     "data": {
      "text/html": [
       "<div>\n",
       "<style scoped>\n",
       "    .dataframe tbody tr th:only-of-type {\n",
       "        vertical-align: middle;\n",
       "    }\n",
       "\n",
       "    .dataframe tbody tr th {\n",
       "        vertical-align: top;\n",
       "    }\n",
       "\n",
       "    .dataframe thead th {\n",
       "        text-align: right;\n",
       "    }\n",
       "</style>\n",
       "<table border=\"1\" class=\"dataframe\">\n",
       "  <thead>\n",
       "    <tr style=\"text-align: right;\">\n",
       "      <th></th>\n",
       "      <th>Class</th>\n",
       "      <th>Adm1</th>\n",
       "      <th>Econ0</th>\n",
       "      <th>function1</th>\n",
       "      <th>fund_source</th>\n",
       "      <th>Estimates</th>\n",
       "      <th>Revised</th>\n",
       "      <th>fully_executed</th>\n",
       "    </tr>\n",
       "  </thead>\n",
       "  <tbody>\n",
       "    <tr>\n",
       "      <th>0</th>\n",
       "      <td>Development</td>\n",
       "      <td>Central</td>\n",
       "      <td>Expenditures</td>\n",
       "      <td>agriculture and rural development</td>\n",
       "      <td>domestic resources</td>\n",
       "      <td>18318600.0</td>\n",
       "      <td>14062700.0</td>\n",
       "      <td>0</td>\n",
       "    </tr>\n",
       "    <tr>\n",
       "      <th>1</th>\n",
       "      <td>Development</td>\n",
       "      <td>Central</td>\n",
       "      <td>Expenditures</td>\n",
       "      <td>agriculture and rural development</td>\n",
       "      <td>domestic resources</td>\n",
       "      <td>12799450.0</td>\n",
       "      <td>9599587.0</td>\n",
       "      <td>0</td>\n",
       "    </tr>\n",
       "    <tr>\n",
       "      <th>2</th>\n",
       "      <td>Development</td>\n",
       "      <td>Central</td>\n",
       "      <td>Expenditures</td>\n",
       "      <td>agriculture and rural development</td>\n",
       "      <td>domestic resources</td>\n",
       "      <td>7218400.0</td>\n",
       "      <td>5652150.0</td>\n",
       "      <td>0</td>\n",
       "    </tr>\n",
       "    <tr>\n",
       "      <th>3</th>\n",
       "      <td>Development</td>\n",
       "      <td>Central</td>\n",
       "      <td>Expenditures</td>\n",
       "      <td>agriculture and rural development</td>\n",
       "      <td>domestic resources</td>\n",
       "      <td>10025827.0</td>\n",
       "      <td>8126744.0</td>\n",
       "      <td>0</td>\n",
       "    </tr>\n",
       "    <tr>\n",
       "      <th>4</th>\n",
       "      <td>Development</td>\n",
       "      <td>Central</td>\n",
       "      <td>Expenditures</td>\n",
       "      <td>agriculture and rural development</td>\n",
       "      <td>domestic resources</td>\n",
       "      <td>500000.0</td>\n",
       "      <td>1130625.0</td>\n",
       "      <td>0</td>\n",
       "    </tr>\n",
       "  </tbody>\n",
       "</table>\n",
       "</div>"
      ],
      "text/plain": [
       "         Class     Adm1         Econ0                          function1  \\\n",
       "0  Development  Central  Expenditures  agriculture and rural development   \n",
       "1  Development  Central  Expenditures  agriculture and rural development   \n",
       "2  Development  Central  Expenditures  agriculture and rural development   \n",
       "3  Development  Central  Expenditures  agriculture and rural development   \n",
       "4  Development  Central  Expenditures  agriculture and rural development   \n",
       "\n",
       "          fund_source   Estimates     Revised  fully_executed  \n",
       "0  domestic resources  18318600.0  14062700.0               0  \n",
       "1  domestic resources  12799450.0   9599587.0               0  \n",
       "2  domestic resources   7218400.0   5652150.0               0  \n",
       "3  domestic resources  10025827.0   8126744.0               0  \n",
       "4  domestic resources    500000.0   1130625.0               0  "
      ]
     },
     "execution_count": 13,
     "metadata": {},
     "output_type": "execute_result"
    }
   ],
   "source": [
    "df.head()"
   ]
  },
  {
   "cell_type": "code",
   "execution_count": 14,
   "metadata": {},
   "outputs": [
    {
     "name": "stdout",
     "output_type": "stream",
     "text": [
      "X.shape: (75886, 7)\n",
      "y.shape: (75886,)\n"
     ]
    }
   ],
   "source": [
    "#split data into features and target\n",
    "X = df.drop('fully_executed', axis=1)\n",
    "print('X.shape:', X.shape)\n",
    "y = df['fully_executed']\n",
    "print('y.shape:', y.shape)\n"
   ]
  },
  {
   "cell_type": "code",
   "execution_count": 15,
   "metadata": {},
   "outputs": [],
   "source": [
    "#split data in train test sets\n",
    "X_train, X_test, y_train, y_test = train_test_split(X, y, test_size =0.2, random_state=42)\n",
    "\n"
   ]
  },
  {
   "cell_type": "code",
   "execution_count": 16,
   "metadata": {},
   "outputs": [
    {
     "name": "stdout",
     "output_type": "stream",
     "text": [
      "X_train shape: (60708, 7)\n",
      "X_test shape: (15178, 7)\n",
      "y_train shape: (60708,)\n",
      "y_test shape: (15178,)\n"
     ]
    }
   ],
   "source": [
    "print('X_train shape:', X_train.shape)\n",
    "print('X_test shape:', X_test.shape)\n",
    "print('y_train shape:', y_train.shape)\n",
    "print('y_test shape:', y_test.shape)"
   ]
  },
  {
   "cell_type": "code",
   "execution_count": 17,
   "metadata": {},
   "outputs": [],
   "source": [
    "#split training into validation set\n",
    "X_train, X_val, y_train, y_val = train_test_split(X_train, y_train, test_size=0.2, random_state=42)"
   ]
  },
  {
   "cell_type": "code",
   "execution_count": 18,
   "metadata": {},
   "outputs": [
    {
     "name": "stdout",
     "output_type": "stream",
     "text": [
      "X_train shape: (48566, 7)\n",
      "X_val shape: (12142, 7)\n",
      "y_train shape: (48566,)\n",
      "y_val shape: (12142,)\n"
     ]
    }
   ],
   "source": [
    "print('X_train shape:', X_train.shape)\n",
    "print('X_val shape:', X_val.shape)\n",
    "print('y_train shape:', y_train.shape)\n",
    "print('y_val shape:', y_val.shape)"
   ]
  },
  {
   "cell_type": "code",
   "execution_count": 19,
   "metadata": {},
   "outputs": [
    {
     "name": "stdout",
     "output_type": "stream",
     "text": [
      "baseline accuracy: 0.701\n"
     ]
    }
   ],
   "source": [
    "#baseline accuracy score\n",
    "acc_baseline = round(y_train.value_counts(normalize=True).max(),3)\n",
    "print('baseline accuracy:', acc_baseline)"
   ]
  },
  {
   "cell_type": "code",
   "execution_count": 29,
   "metadata": {},
   "outputs": [
    {
     "name": "stdout",
     "output_type": "stream",
     "text": [
      "baseline accuracy: 0.701\n",
      "Train accuracy score 0.75\n",
      "Validation accuracy score 0.75\n"
     ]
    }
   ],
   "source": [
    "#baseline accuracy score\n",
    "acc_baseline = round(y_train.value_counts(normalize=True).max(),3)\n",
    "print('baseline accuracy:', acc_baseline)\n",
    "\n",
    "#make pipeline   \n",
    "model = make_pipeline(\n",
    "    OrdinalEncoder(handle_unknown='use_encoded_value', unknown_value=-1),\n",
    "    LogisticRegression(max_iter=1000)\n",
    ")\n",
    "\n",
    "#fit model\n",
    "model.fit(X_train, y_train)\n",
    "\n",
    "#make predictions with training\n",
    "y_pred_train = model.predict(X_train)\n",
    "\n",
    "#acc_train\n",
    "acc_train = round(accuracy_score(y_train, y_pred_train),2)\n",
    "\n",
    "print('Train accuracy score', acc_train)\n",
    "\n",
    "#predict on val set\n",
    "y_pred_val = model.predict(X_val)\n",
    "\n",
    "#acc_val\n",
    "acc_val = round(accuracy_score(y_val, y_pred_val), 2)\n",
    "\n",
    "print('Validation accuracy score', acc_val)\n"
   ]
  },
  {
   "cell_type": "code",
   "execution_count": 33,
   "metadata": {},
   "outputs": [
    {
     "name": "stdout",
     "output_type": "stream",
     "text": [
      "baseline accuracy: 0.701\n",
      "Train accuracy score 0.93\n",
      "Validation accuracy score 0.65\n"
     ]
    }
   ],
   "source": [
    "#baseline accuracy score\n",
    "acc_baseline = round(y_train.value_counts(normalize=True).max(),3)\n",
    "print('baseline accuracy:', acc_baseline)\n",
    "\n",
    "#make pipeline   \n",
    "model_tree= make_pipeline(\n",
    "    OrdinalEncoder(handle_unknown='use_encoded_value', unknown_value=-1),\n",
    "    DecisionTreeClassifier(random_state=42)\n",
    ")\n",
    "\n",
    "#fit model\n",
    "model_tree.fit(X_train, y_train)\n",
    "\n",
    "#make predictions with training\n",
    "y_pred_train = model_tree.predict(X_train)\n",
    "\n",
    "#acc_train\n",
    "acc_train = round(accuracy_score(y_train, y_pred_train),2)\n",
    "\n",
    "print('Train accuracy score', acc_train)\n",
    "\n",
    "#predict on val set\n",
    "y_pred_val = model_tree.predict(X_val)\n",
    "\n",
    "#acc_val\n",
    "acc_val = round(accuracy_score(y_val, y_pred_val), 2)\n",
    "\n",
    "print('Validation accuracy score', acc_val)"
   ]
  },
  {
   "cell_type": "code",
   "execution_count": 34,
   "metadata": {},
   "outputs": [
    {
     "data": {
      "text/plain": [
       "85"
      ]
     },
     "execution_count": 34,
     "metadata": {},
     "output_type": "execute_result"
    }
   ],
   "source": [
    "tree_depth=model_tree.named_steps['decisiontreeclassifier'].get_depth()\n",
    "tree_depth"
   ]
  },
  {
   "cell_type": "code",
   "execution_count": 40,
   "metadata": {},
   "outputs": [],
   "source": [
    "depth_params = range(1, 86, 2)\n",
    "accuracy_train = []\n",
    "accuracy_val = []\n",
    "for d in depth_params:\n",
    "    #make pipeline   \n",
    "    model_test= make_pipeline(\n",
    "        OrdinalEncoder(handle_unknown='use_encoded_value', unknown_value=-1),\n",
    "        DecisionTreeClassifier(max_depth=d, random_state=42)\n",
    "    )\n",
    "\n",
    "    #fit model\n",
    "    model_test.fit(X_train, y_train)\n",
    "\n",
    "    #make predictions with training\n",
    "    y_pred_train = model_test.predict(X_train)\n",
    "\n",
    "    #acc_train\n",
    "    acc_train = round(accuracy_score(y_train, y_pred_train),2)\n",
    "\n",
    "    accuracy_train.append(acc_train)\n",
    "\n",
    "    #predict on val set\n",
    "    y_pred_val = model_test.predict(X_val)\n",
    "\n",
    "    #acc_val\n",
    "    acc_val = round(accuracy_score(y_val, y_pred_val), 2)\n",
    "\n",
    "    accuracy_val.append(acc_val)\n",
    "        "
   ]
  },
  {
   "cell_type": "code",
   "execution_count": 42,
   "metadata": {},
   "outputs": [
    {
     "name": "stdout",
     "output_type": "stream",
     "text": [
      "[0.75, 0.76, 0.76]\n",
      "[0.75, 0.75, 0.75]\n"
     ]
    }
   ],
   "source": [
    "print(accuracy_train[:3])\n",
    "print(accuracy_val[:3])"
   ]
  },
  {
   "cell_type": "code",
   "execution_count": 43,
   "metadata": {},
   "outputs": [
    {
     "data": {
      "image/png": "[encoded data removed]",
      "text/plain": [
       "<Figure size 640x480 with 1 Axes>"
      ]
     },
     "metadata": {},
     "output_type": "display_data"
    }
   ],
   "source": [
    "plt.plot(depth_params, accuracy_train, label='training')\n",
    "plt.plot(depth_params, accuracy_val, label='validation')\n",
    "plt.xlabel('Max Depth')\n",
    "plt.ylabel('accuracy')\n",
    "plt.legend();"
   ]
  }
 ],
 "metadata": {
  "kernelspec": {
   "display_name": "Python 3",
   "language": "python",
   "name": "python3"
  },
  "language_info": {
   "codemirror_mode": {
    "name": "ipython",
    "version": 3
   },
   "file_extension": ".py",
   "mimetype": "text/x-python",
   "name": "python",
   "nbconvert_exporter": "python",
   "pygments_lexer": "ipython3",
   "version": "3.10.12"
  }
 },
 "nbformat": 4,
 "nbformat_minor": 2
}
