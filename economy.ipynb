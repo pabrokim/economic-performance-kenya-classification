{
 "cells": [
  {
   "cell_type": "code",
   "execution_count": 21,
   "metadata": {},
   "outputs": [],
   "source": [
    "#import libraries\n",
    "import pandas as pd\n",
    "import matplotlib.pyplot as plt\n",
    "import seaborn as sns\n",
    "import numpy as np\n",
    "from sklearn.metrics import accuracy_score, confusion_matrix\n",
    "from sklearn.linear_model import LogisticRegression"
   ]
  },
  {
   "cell_type": "code",
   "execution_count": null,
   "metadata": {},
   "outputs": [],
   "source": []
  },
  {
   "cell_type": "code",
   "execution_count": 25,
   "metadata": {},
   "outputs": [],
   "source": [
    "def wrangle(file):\n",
    "    try:\n",
    "        #read csv\n",
    "        df = pd.read_csv(file)\n",
    "\n",
    "        #remove whitespace in columns\n",
    "        df.columns = df.columns.str.strip()\n",
    "\n",
    "        # columns to drop\n",
    "        cols_to_drop =['Adm5', 'Adm6', 'Geo1', 'econ4', 'acc_code', 'FndSrce1', 'function2', 'econ1', 'econ2', 'econ3', 'Year', 'Adm2', 'Adm3', 'Adm4']\n",
    "        \n",
    "\n",
    "        #mask = df['Class'].str.contains('Recurrent')\n",
    "        #df = df[mask]\n",
    "\n",
    "        \n",
    "\n",
    "        #convert numerical columns to float\n",
    "        num_cols = ['Estimates', 'Revised', 'Executed']\n",
    "        for col in num_cols:\n",
    "            df[col] = df[col].str.replace(',', '', regex=True).str.replace(r'[^\\d\\.\\-]', '', regex=True).replace(['', '-'], np.nan).astype(float)\n",
    "        \n",
    "        #split funding source\n",
    "        df[['acc_code', 'fund_source']] = df['FndSrce1'].str.lower().str.split(n=1, expand=True)\n",
    "\n",
    "        #clean function 1\n",
    "        df['function1'] = df['function1'].str.lower().str.strip()\n",
    "\n",
    "        #drop columns\n",
    "        df.drop(columns = cols_to_drop, inplace=True)\n",
    "        \n",
    "        #drop missing rows\n",
    "        df.dropna(inplace=True)\n",
    "        \n",
    "        return df\n",
    "        \n",
    "    except Exception as e:\n",
    "        print(f'Encountered {e} error')\n",
    "\n",
    "    \n"
   ]
  },
  {
   "cell_type": "code",
   "execution_count": 26,
   "metadata": {},
   "outputs": [
    {
     "name": "stderr",
     "output_type": "stream",
     "text": [
      "/tmp/ipykernel_2760/2208220039.py:4: DtypeWarning: Columns (0,1,2,3,4,5,6,7,9,10,11,12,15,16,17,18,19) have mixed types. Specify dtype option on import or set low_memory=False.\n",
      "  df = pd.read_csv(file)\n"
     ]
    }
   ],
   "source": [
    "df = wrangle('kenya-boost-2006-2018.csv')\n"
   ]
  },
  {
   "cell_type": "code",
   "execution_count": 27,
   "metadata": {},
   "outputs": [
    {
     "data": {
      "text/plain": [
       "array(['Expenditures', 'Below the line', 'A-in-A'], dtype=object)"
      ]
     },
     "execution_count": 27,
     "metadata": {},
     "output_type": "execute_result"
    }
   ],
   "source": [
    "df['Econ0'].unique()"
   ]
  },
  {
   "cell_type": "code",
   "execution_count": 28,
   "metadata": {},
   "outputs": [
    {
     "name": "stdout",
     "output_type": "stream",
     "text": [
      "Index(['Class', 'Adm1', 'Econ0', 'function1', 'Estimates', 'Revised',\n",
      "       'Executed', 'fund_source'],\n",
      "      dtype='object')\n",
      "Value counts for Class column\n",
      "['Development' 'Recurrent']\n",
      "------------------\n",
      "******************\n",
      "Value counts for Adm1 column\n",
      "['Central' 'Social security' 'Local Authorities' ' Central ']\n",
      "------------------\n",
      "******************\n",
      "Value counts for Econ0 column\n",
      "['Expenditures' 'Below the line' 'A-in-A']\n",
      "------------------\n",
      "******************\n",
      "Value counts for function1 column\n",
      "['agriculture and rural development' 'human resource development'\n",
      " 'debt/pensions' 'governance, justice, law and order'\n",
      " 'public administration and international relations'\n",
      " 'environment, water and irrigation' 'trade, tourism and industry'\n",
      " 'special programmes' 'physical infrastructure'\n",
      " 'research,innovation and technology' 'national security' 'other']\n",
      "------------------\n",
      "******************\n",
      "Value counts for Estimates column\n",
      "[1.83186000e+07 1.27994500e+07 7.21840000e+06 ... 6.82732842e+10\n",
      " 7.32605724e+09 6.93458421e+10]\n",
      "------------------\n",
      "******************\n",
      "Value counts for Revised column\n",
      "[1.40627000e+07 9.59958700e+06 5.65215000e+06 ... 6.82732842e+10\n",
      " 7.32605724e+09 6.93458421e+10]\n",
      "------------------\n",
      "******************\n",
      "Value counts for Executed column\n",
      "[5.8938600e+06 3.3128080e+06 2.9114000e+06 ... 1.0627056e+10 1.1055950e+07\n",
      " 0.0000000e+00]\n",
      "------------------\n",
      "******************\n",
      "Value counts for fund_source column\n",
      "['domestic resources' 'appropriation in aid (aia)' 'revenue']\n",
      "------------------\n",
      "******************\n"
     ]
    }
   ],
   "source": [
    "columns = df.columns\n",
    "print(columns)\n",
    "for col in columns:\n",
    "    print(f'Value counts for {col} column')\n",
    "    try:\n",
    "        print(df[col].unique())\n",
    "    except Exception as e:\n",
    "        print(f\"Error in column '{col}': {e}\")\n",
    "    print('------------------')\n",
    "    print('******************')"
   ]
  },
  {
   "cell_type": "code",
   "execution_count": 29,
   "metadata": {},
   "outputs": [
    {
     "data": {
      "text/plain": [
       "Index(['Class', 'Adm1', 'Econ0', 'function1', 'Estimates', 'Revised',\n",
       "       'Executed', 'fund_source'],\n",
       "      dtype='object')"
      ]
     },
     "execution_count": 29,
     "metadata": {},
     "output_type": "execute_result"
    }
   ],
   "source": [
    "df.columns.str.strip()"
   ]
  },
  {
   "cell_type": "code",
   "execution_count": 30,
   "metadata": {},
   "outputs": [
    {
     "name": "stdout",
     "output_type": "stream",
     "text": [
      "0    18318600.0\n",
      "1    12799450.0\n",
      "2     7218400.0\n",
      "3    10025827.0\n",
      "4      500000.0\n",
      "Name: Estimates, dtype: float64\n"
     ]
    }
   ],
   "source": [
    "if 'Estimates' in df.columns:\n",
    "    print(df['Estimates'].head())\n",
    "else:\n",
    "    print('Estimates column not there')"
   ]
  },
  {
   "cell_type": "code",
   "execution_count": 31,
   "metadata": {},
   "outputs": [
    {
     "name": "stdout",
     "output_type": "stream",
     "text": [
      "<class 'pandas.core.frame.DataFrame'>\n",
      "Index: 77494 entries, 0 to 262022\n",
      "Data columns (total 8 columns):\n",
      " #   Column       Non-Null Count  Dtype  \n",
      "---  ------       --------------  -----  \n",
      " 0   Class        77494 non-null  object \n",
      " 1   Adm1         77494 non-null  object \n",
      " 2   Econ0        77494 non-null  object \n",
      " 3   function1    77494 non-null  object \n",
      " 4   Estimates    77494 non-null  float64\n",
      " 5   Revised      77494 non-null  float64\n",
      " 6   Executed     77494 non-null  float64\n",
      " 7   fund_source  77494 non-null  object \n",
      "dtypes: float64(3), object(5)\n",
      "memory usage: 5.3+ MB\n"
     ]
    }
   ],
   "source": [
    "df.info()"
   ]
  },
  {
   "cell_type": "code",
   "execution_count": 32,
   "metadata": {},
   "outputs": [],
   "source": [
    "df['function1'] = df['function1'].str.lower().str.strip()\n"
   ]
  },
  {
   "cell_type": "code",
   "execution_count": 34,
   "metadata": {},
   "outputs": [
    {
     "name": "stdout",
     "output_type": "stream",
     "text": [
      "<class 'pandas.core.frame.DataFrame'>\n",
      "Index: 77494 entries, 0 to 262022\n",
      "Data columns (total 8 columns):\n",
      " #   Column       Non-Null Count  Dtype  \n",
      "---  ------       --------------  -----  \n",
      " 0   Class        77494 non-null  object \n",
      " 1   Adm1         77494 non-null  object \n",
      " 2   Econ0        77494 non-null  object \n",
      " 3   function1    77494 non-null  object \n",
      " 4   Estimates    77494 non-null  float64\n",
      " 5   Revised      77494 non-null  float64\n",
      " 6   Executed     77494 non-null  float64\n",
      " 7   fund_source  77494 non-null  object \n",
      "dtypes: float64(3), object(5)\n",
      "memory usage: 5.3+ MB\n"
     ]
    }
   ],
   "source": [
    "df.info()"
   ]
  }
 ],
 "metadata": {
  "kernelspec": {
   "display_name": "Python 3",
   "language": "python",
   "name": "python3"
  },
  "language_info": {
   "codemirror_mode": {
    "name": "ipython",
    "version": 3
   },
   "file_extension": ".py",
   "mimetype": "text/x-python",
   "name": "python",
   "nbconvert_exporter": "python",
   "pygments_lexer": "ipython3",
   "version": "3.10.12"
  }
 },
 "nbformat": 4,
 "nbformat_minor": 2
}
